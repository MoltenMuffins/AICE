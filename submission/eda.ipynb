{
 "cells": [
  {
   "cell_type": "markdown",
   "metadata": {},
   "source": [
    "# Exploratory Data Analysis of E-Scooter Related Metrics for the AICE (Associate) Technical Test\n",
    "By Evan Chong  \n",
    "evan.tkchong@gmail.com  \n",
    "April 2020  "
   ]
  },
  {
   "cell_type": "markdown",
   "metadata": {},
   "source": [
    "## 0. Boilerplate"
   ]
  },
  {
   "cell_type": "code",
   "execution_count": 1,
   "metadata": {},
   "outputs": [],
   "source": [
    "import sklearn\n",
    "import pandas as pd\n",
    "import matplotlib.pyplot as plt\n",
    "%matplotlib inline"
   ]
  },
  {
   "cell_type": "markdown",
   "metadata": {},
   "source": [
    "## 1. Data Extraction"
   ]
  },
  {
   "cell_type": "code",
   "execution_count": 2,
   "metadata": {},
   "outputs": [
    {
     "name": "stdout",
     "output_type": "stream",
     "text": [
      "Connecting to mssql+pyodbc://aice_candidate:@ic3_a3s0c1at3@aice.database.windows.net:1433/aice?driver=ODBC+Driver+17+for+SQL+Server\n",
      "Successfully connected.\n",
      "Table contains the following columns:\n",
      "date NVARCHAR(50) COLLATE \"SQL_Latin1_General_CP1_CI_AS\"\n",
      "hr INTEGER\n",
      "weather NVARCHAR(50) COLLATE \"SQL_Latin1_General_CP1_CI_AS\"\n",
      "temperature FLOAT\n",
      "feels_like_temperature FLOAT\n",
      "relative_humidity FLOAT\n",
      "windspeed FLOAT\n",
      "psi INTEGER\n",
      "guest_scooter INTEGER\n",
      "registered_scooter INTEGER\n",
      "guest_bike INTEGER\n",
      "registered_bike INTEGER\n",
      "\n",
      "\n",
      "Excluding the following columns: ['guest_bike', 'registered_bike']\n",
      "Using query `SELECT  date, hr, weather, temperature, feels_like_temperature, relative_humidity, windspeed, psi, guest_scooter, registered_scooter FROM rental_data WHERE date BETWEEN '2011' AND '2012'`\n"
     ]
    }
   ],
   "source": [
    "# Import handler class from the extraction script\n",
    "from mlp.data_extraction import SQLHandler\n",
    "\n",
    "# We don't need to pass in any arguments as we've already\n",
    "# set the argument values we need as the default arguments\n",
    "\n",
    "handle = SQLHandler()\n",
    "df = handle.extract()"
   ]
  },
  {
   "cell_type": "markdown",
   "metadata": {},
   "source": [
    "## 2. Exploratory Data Analysis"
   ]
  },
  {
   "cell_type": "markdown",
   "metadata": {},
   "source": [
    "### 2.1 Basic Metrics and Cleaning\n",
    "First, let's run the gauntlet of basic metrics built into pandas.\n",
    "We'll also clean up the data as we go along."
   ]
  },
  {
   "cell_type": "code",
   "execution_count": 9,
   "metadata": {},
   "outputs": [
    {
     "data": {
      "text/plain": [
       "(9302, 10)"
      ]
     },
     "execution_count": 9,
     "metadata": {},
     "output_type": "execute_result"
    }
   ],
   "source": [
    "# How many rows/columns are we dealing with\n",
    "df.shape"
   ]
  },
  {
   "cell_type": "code",
   "execution_count": 4,
   "metadata": {},
   "outputs": [
    {
     "name": "stdout",
     "output_type": "stream",
     "text": [
      "<class 'pandas.core.frame.DataFrame'>\n",
      "RangeIndex: 9302 entries, 0 to 9301\n",
      "Data columns (total 10 columns):\n",
      " #   Column                  Non-Null Count  Dtype  \n",
      "---  ------                  --------------  -----  \n",
      " 0   date                    9302 non-null   object \n",
      " 1   hr                      9302 non-null   int64  \n",
      " 2   weather                 9302 non-null   object \n",
      " 3   temperature             9302 non-null   float64\n",
      " 4   feels_like_temperature  9302 non-null   float64\n",
      " 5   relative_humidity       9302 non-null   float64\n",
      " 6   windspeed               9302 non-null   float64\n",
      " 7   psi                     9302 non-null   int64  \n",
      " 8   guest_scooter           9302 non-null   int64  \n",
      " 9   registered_scooter      9302 non-null   int64  \n",
      "dtypes: float64(4), int64(4), object(2)\n",
      "memory usage: 726.8+ KB\n"
     ]
    }
   ],
   "source": [
    "# Verify that we extracted the correct columns from the database.\n",
    "# We expect to have the columns date, hr, weather, temperature,\n",
    "# feels_like_temperature, relative_humidity \n",
    "# windspeed, psi, guest_scooter, registered_scooter \n",
    "\n",
    "df.info()"
   ]
  },
  {
   "cell_type": "code",
   "execution_count": 5,
   "metadata": {},
   "outputs": [
    {
     "data": {
      "text/html": [
       "<div>\n",
       "<style scoped>\n",
       "    .dataframe tbody tr th:only-of-type {\n",
       "        vertical-align: middle;\n",
       "    }\n",
       "\n",
       "    .dataframe tbody tr th {\n",
       "        vertical-align: top;\n",
       "    }\n",
       "\n",
       "    .dataframe thead th {\n",
       "        text-align: right;\n",
       "    }\n",
       "</style>\n",
       "<table border=\"1\" class=\"dataframe\">\n",
       "  <thead>\n",
       "    <tr style=\"text-align: right;\">\n",
       "      <th></th>\n",
       "      <th>date</th>\n",
       "      <th>hr</th>\n",
       "      <th>weather</th>\n",
       "      <th>temperature</th>\n",
       "      <th>feels_like_temperature</th>\n",
       "      <th>relative_humidity</th>\n",
       "      <th>windspeed</th>\n",
       "      <th>psi</th>\n",
       "      <th>guest_scooter</th>\n",
       "      <th>registered_scooter</th>\n",
       "    </tr>\n",
       "  </thead>\n",
       "  <tbody>\n",
       "    <tr>\n",
       "      <th>0</th>\n",
       "      <td>2011-12-22</td>\n",
       "      <td>10</td>\n",
       "      <td>cloudy</td>\n",
       "      <td>80.2</td>\n",
       "      <td>109.4</td>\n",
       "      <td>82.0</td>\n",
       "      <td>6.0</td>\n",
       "      <td>35</td>\n",
       "      <td>41</td>\n",
       "      <td>894</td>\n",
       "    </tr>\n",
       "    <tr>\n",
       "      <th>1</th>\n",
       "      <td>2011-02-25</td>\n",
       "      <td>11</td>\n",
       "      <td>clear</td>\n",
       "      <td>90.4</td>\n",
       "      <td>120.2</td>\n",
       "      <td>77.0</td>\n",
       "      <td>30.0</td>\n",
       "      <td>30</td>\n",
       "      <td>27</td>\n",
       "      <td>350</td>\n",
       "    </tr>\n",
       "    <tr>\n",
       "      <th>2</th>\n",
       "      <td>2011-06-19</td>\n",
       "      <td>5</td>\n",
       "      <td>cloudy</td>\n",
       "      <td>102.2</td>\n",
       "      <td>132.8</td>\n",
       "      <td>78.0</td>\n",
       "      <td>0.0</td>\n",
       "      <td>1</td>\n",
       "      <td>23</td>\n",
       "      <td>82</td>\n",
       "    </tr>\n",
       "    <tr>\n",
       "      <th>3</th>\n",
       "      <td>2011-07-01</td>\n",
       "      <td>17</td>\n",
       "      <td>clear</td>\n",
       "      <td>115.8</td>\n",
       "      <td>143.6</td>\n",
       "      <td>21.0</td>\n",
       "      <td>13.0</td>\n",
       "      <td>25</td>\n",
       "      <td>296</td>\n",
       "      <td>2533</td>\n",
       "    </tr>\n",
       "    <tr>\n",
       "      <th>4</th>\n",
       "      <td>2011-06-29</td>\n",
       "      <td>18</td>\n",
       "      <td>clear</td>\n",
       "      <td>114.1</td>\n",
       "      <td>143.6</td>\n",
       "      <td>29.0</td>\n",
       "      <td>20.0</td>\n",
       "      <td>6</td>\n",
       "      <td>236</td>\n",
       "      <td>3569</td>\n",
       "    </tr>\n",
       "  </tbody>\n",
       "</table>\n",
       "</div>"
      ],
      "text/plain": [
       "         date  hr weather  temperature  feels_like_temperature  \\\n",
       "0  2011-12-22  10  cloudy         80.2                   109.4   \n",
       "1  2011-02-25  11   clear         90.4                   120.2   \n",
       "2  2011-06-19   5  cloudy        102.2                   132.8   \n",
       "3  2011-07-01  17   clear        115.8                   143.6   \n",
       "4  2011-06-29  18   clear        114.1                   143.6   \n",
       "\n",
       "   relative_humidity  windspeed  psi  guest_scooter  registered_scooter  \n",
       "0               82.0        6.0   35             41                 894  \n",
       "1               77.0       30.0   30             27                 350  \n",
       "2               78.0        0.0    1             23                  82  \n",
       "3               21.0       13.0   25            296                2533  \n",
       "4               29.0       20.0    6            236                3569  "
      ]
     },
     "execution_count": 5,
     "metadata": {},
     "output_type": "execute_result"
    }
   ],
   "source": [
    "df.head(10)"
   ]
  },
  {
   "cell_type": "markdown",
   "metadata": {},
   "source": [
    "**Observations**\n",
    "* There aren't too many columns which lessens the need for us to use complex dimentionality reduction methods to identify the most significant fields.\n",
    "* The fields `date` and `weather` have `object` Dtypes so let's look at those further."
   ]
  },
  {
   "cell_type": "code",
   "execution_count": 24,
   "metadata": {},
   "outputs": [],
   "source": [
    "# The `date` field seems to contain strings.\n",
    "# Let's convert it into an proper date\n",
    "df['date'] = pd.to_datetime(df['date'], utc=False)"
   ]
  },
  {
   "cell_type": "code",
   "execution_count": 17,
   "metadata": {},
   "outputs": [
    {
     "data": {
      "text/plain": [
       "array(['cloudy', 'clear', 'light snow/rain', 'lear', 'CLOUDY', 'clar',\n",
       "       'loudy', 'CLEAR', 'cludy', 'LIGHT SNOW/RAIN', 'liht snow/rain',\n",
       "       'heavy snow/rain'], dtype=object)"
      ]
     },
     "execution_count": 17,
     "metadata": {},
     "output_type": "execute_result"
    }
   ],
   "source": [
    "# `weather` also seems to contain strings.\n",
    "# In that case, what are the available weather types?\n",
    "df['weather'].unique()"
   ]
  },
  {
   "cell_type": "markdown",
   "metadata": {},
   "source": [
    "**Observations**  \n",
    "* The `weather` field contains several unique entries that seem to be the result of spelling mistakes.\n",
    "\n",
    "We'll correct the spelling mistakes as well as convert the field to a proper categorical field."
   ]
  },
  {
   "cell_type": "code",
   "execution_count": 30,
   "metadata": {},
   "outputs": [],
   "source": [
    "# First we correct the spelling and casing.\n",
    "# We could use the autocorrect python library but there actually aren't too many,\n",
    "# instances of incorrect spelling here so we'll do it by hand in this notebook.\n",
    "correction_dict = {\n",
    "    'lear':'clear',\n",
    "    'clar':'clear',\n",
    "    'loudy':'cloudy',\n",
    "    'cludy':'cloudy',\n",
    "    'liht snow/rain':'light snow/rain'\n",
    "}\n",
    "df[\"weather\"] = df[\"weather\"].str.lower()\n",
    "df[\"weather\"].replace(correction_dict, inplace=True)\n",
    "\n",
    "# Now we convert the field into a categorical field\n",
    "df[\"weather\"] = df[\"weather\"].astype('category')"
   ]
  },
  {
   "cell_type": "code",
   "execution_count": 31,
   "metadata": {},
   "outputs": [
    {
     "name": "stdout",
     "output_type": "stream",
     "text": [
      "<class 'pandas.core.frame.DataFrame'>\n",
      "RangeIndex: 9302 entries, 0 to 9301\n",
      "Data columns (total 10 columns):\n",
      " #   Column                  Non-Null Count  Dtype         \n",
      "---  ------                  --------------  -----         \n",
      " 0   date                    9302 non-null   datetime64[ns]\n",
      " 1   hr                      9302 non-null   int64         \n",
      " 2   weather                 9302 non-null   category      \n",
      " 3   temperature             9302 non-null   float64       \n",
      " 4   feels_like_temperature  9302 non-null   float64       \n",
      " 5   relative_humidity       9302 non-null   float64       \n",
      " 6   windspeed               9302 non-null   float64       \n",
      " 7   psi                     9302 non-null   int64         \n",
      " 8   guest_scooter           9302 non-null   int64         \n",
      " 9   registered_scooter      9302 non-null   int64         \n",
      "dtypes: category(1), datetime64[ns](1), float64(4), int64(4)\n",
      "memory usage: 663.4 KB\n"
     ]
    },
    {
     "data": {
      "text/plain": [
       "[cloudy, clear, light snow/rain, heavy snow/rain]\n",
       "Categories (4, object): [cloudy, clear, light snow/rain, heavy snow/rain]"
      ]
     },
     "execution_count": 31,
     "metadata": {},
     "output_type": "execute_result"
    }
   ],
   "source": [
    "# Let's check our work\n",
    "df.info()\n",
    "df['weather'].unique()"
   ]
  },
  {
   "cell_type": "markdown",
   "metadata": {},
   "source": [
    "**Observations**  \n",
    "* We've cleaned the `weather` and `date` fields and converted them into sensible pandas types"
   ]
  },
  {
   "cell_type": "code",
   "execution_count": null,
   "metadata": {},
   "outputs": [],
   "source": []
  },
  {
   "cell_type": "markdown",
   "metadata": {},
   "source": [
    "## 2.2"
   ]
  },
  {
   "cell_type": "code",
   "execution_count": null,
   "metadata": {},
   "outputs": [],
   "source": []
  }
 ],
 "metadata": {
  "kernelspec": {
   "display_name": "Python 3",
   "language": "python",
   "name": "python3"
  },
  "language_info": {
   "codemirror_mode": {
    "name": "ipython",
    "version": 3
   },
   "file_extension": ".py",
   "mimetype": "text/x-python",
   "name": "python",
   "nbconvert_exporter": "python",
   "pygments_lexer": "ipython3",
   "version": "3.6.8"
  }
 },
 "nbformat": 4,
 "nbformat_minor": 4
}
